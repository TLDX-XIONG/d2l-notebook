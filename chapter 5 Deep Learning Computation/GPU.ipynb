{
 "cells": [
  {
   "cell_type": "code",
   "execution_count": 5,
   "metadata": {},
   "outputs": [],
   "source": [
    "import torch\n",
    "import time"
   ]
  },
  {
   "cell_type": "code",
   "execution_count": 3,
   "metadata": {},
   "outputs": [
    {
     "data": {
      "text/plain": [
       "device(type='cuda')"
      ]
     },
     "execution_count": 3,
     "metadata": {},
     "output_type": "execute_result"
    }
   ],
   "source": [
    "device = torch.device('cuda' if torch.cuda.is_available() else 'cpu')\n",
    "device"
   ]
  },
  {
   "cell_type": "code",
   "execution_count": 8,
   "metadata": {},
   "outputs": [],
   "source": [
    "matrix_1 = torch.randn((10000,10000))\n",
    "matrix_2 = torch.randn_like(matrix_1)"
   ]
  },
  {
   "cell_type": "code",
   "execution_count": 9,
   "metadata": {},
   "outputs": [
    {
     "name": "stdout",
     "output_type": "stream",
     "text": [
      "5.387579679489136 seconds.\n"
     ]
    }
   ],
   "source": [
    "start = time.time()\n",
    "matrix_1@matrix_2\n",
    "print(f'{time.time()-start} seconds.')"
   ]
  },
  {
   "cell_type": "code",
   "execution_count": 10,
   "metadata": {},
   "outputs": [
    {
     "name": "stdout",
     "output_type": "stream",
     "text": [
      "13.660586833953857 seconds.\n"
     ]
    }
   ],
   "source": [
    "start = time.time()\n",
    "matrix_1.to(device)@matrix_2.to(device)\n",
    "print(f'{time.time()-start} seconds.')"
   ]
  },
  {
   "cell_type": "markdown",
   "metadata": {},
   "source": [
    "验证相同的矩阵乘法在CPU上跑的时间和GPU上跑的时间。\n",
    "\n",
    "可以看到，GPU花费的时间远小于CPU耗费的时间。从而有力的说明了GPU更适合矩阵运算。"
   ]
  },
  {
   "cell_type": "code",
   "execution_count": 16,
   "metadata": {},
   "outputs": [
    {
     "name": "stdout",
     "output_type": "stream",
     "text": [
      "608.4481654167175 seconds on cpu\n",
      "81.29967069625854 seconds on gpu\n"
     ]
    }
   ],
   "source": [
    "matrix_1 = torch.randn(10000, 10000)\n",
    "matrix_2 = torch.randn(10000, 10000)\n",
    "\n",
    "start = time.time()\n",
    "for i in range(100):\n",
    "    matrix_1@matrix_2\n",
    "print(f'{time.time()-start} seconds on cpu')\n",
    "\n",
    "start = time.time()\n",
    "for i in range(100):\n",
    "    matrix_1.to(device)@matrix_2.to(device)\n",
    "print(f'{time.time()-start} seconds on gpu')"
   ]
  },
  {
   "cell_type": "code",
   "execution_count": null,
   "metadata": {},
   "outputs": [],
   "source": []
  }
 ],
 "metadata": {
  "interpreter": {
   "hash": "d8a0961c20d76c7c2004d2e269ffc09a1051acc49ef304c2f8e1e8f698f95f54"
  },
  "kernelspec": {
   "display_name": "Python 3.7.8 64-bit ('d2l': venv)",
   "language": "python",
   "name": "python3"
  },
  "language_info": {
   "codemirror_mode": {
    "name": "ipython",
    "version": 3
   },
   "file_extension": ".py",
   "mimetype": "text/x-python",
   "name": "python",
   "nbconvert_exporter": "python",
   "pygments_lexer": "ipython3",
   "version": "3.7.8"
  },
  "orig_nbformat": 4
 },
 "nbformat": 4,
 "nbformat_minor": 2
}
